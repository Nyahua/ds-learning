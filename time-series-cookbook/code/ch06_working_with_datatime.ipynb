{
 "cells": [
  {
   "cell_type": "markdown",
   "id": "e6d69a27-2196-4688-a8d4-dbe0f7ad255e",
   "metadata": {},
   "source": [
    "# Chapter 6: Working with Date and Time in Python\n",
    "## Working with DatetimeIndex"
   ]
  },
  {
   "cell_type": "code",
   "execution_count": 1,
   "id": "b9a44ced-7321-4c76-94fb-736751d4e0b3",
   "metadata": {},
   "outputs": [],
   "source": [
    "import pandas as pd\n",
    "import numpy as np\n",
    "import datetime as dt"
   ]
  },
  {
   "cell_type": "code",
   "execution_count": 7,
   "id": "9570f785-e4c7-4fd9-a82f-fbc4581282bc",
   "metadata": {},
   "outputs": [],
   "source": [
    "dt1 = dt.datetime(2021,1,1)\n",
    "dt2 = pd.Timestamp(\"2021-1-1\")\n",
    "dt3 = pd.to_datetime('2021-1-1')"
   ]
  },
  {
   "cell_type": "code",
   "execution_count": 11,
   "id": "6312959d-fbd9-41d0-97c0-42e09a8c1f51",
   "metadata": {},
   "outputs": [
    {
     "data": {
      "text/plain": [
       "True"
      ]
     },
     "execution_count": 11,
     "metadata": {},
     "output_type": "execute_result"
    }
   ],
   "source": [
    "dt1 == dt2 == dt3"
   ]
  },
  {
   "cell_type": "code",
   "execution_count": 18,
   "id": "bc88641a-1815-400c-85a2-4df1492c3a4c",
   "metadata": {},
   "outputs": [
    {
     "name": "stdout",
     "output_type": "stream",
     "text": [
      "2021-01-01 00:00:00\n",
      "2021-01-01 00:00:00\n",
      "2021-01-01 00:00:00\n"
     ]
    }
   ],
   "source": [
    "print(dt1)\n",
    "print(dt2)\n",
    "print(dt3)"
   ]
  },
  {
   "cell_type": "code",
   "execution_count": 19,
   "id": "776d93c2-194d-4fcb-8c3c-ddca5b075385",
   "metadata": {},
   "outputs": [
    {
     "name": "stdout",
     "output_type": "stream",
     "text": [
      "<class 'datetime.datetime'>\n",
      "<class 'pandas._libs.tslibs.timestamps.Timestamp'>\n",
      "<class 'pandas._libs.tslibs.timestamps.Timestamp'>\n"
     ]
    }
   ],
   "source": [
    "print(type(dt1))\n",
    "print(type(dt2))\n",
    "print(type(dt3))"
   ]
  },
  {
   "cell_type": "code",
   "execution_count": 21,
   "id": "ec196f06-6595-4a9b-b022-17faab973d6d",
   "metadata": {},
   "outputs": [
    {
     "data": {
      "text/plain": [
       "True"
      ]
     },
     "execution_count": 21,
     "metadata": {},
     "output_type": "execute_result"
    }
   ],
   "source": [
    "issubclass(pd.Timestamp, dt.datetime)"
   ]
  },
  {
   "cell_type": "markdown",
   "id": "272cc00f-8d9b-4604-a2e5-cf230d8e6945",
   "metadata": {},
   "source": [
    "> Note that dt2 is an instance of pandas.`Timestamp` class, and the `Timestamp` class is a subclass of Python's `dt.datetime` class (but not vice versa). "
   ]
  },
  {
   "cell_type": "code",
   "execution_count": 23,
   "id": "49e0c515-05af-4306-a39c-fc4515fc023e",
   "metadata": {},
   "outputs": [
    {
     "name": "stdout",
     "output_type": "stream",
     "text": [
      "DatetimeIndex(['2021-01-01', '2021-01-02'], dtype='datetime64[ns]', freq=None)\n",
      "<class 'pandas.core.indexes.datetimes.DatetimeIndex'>\n",
      "<class 'pandas._libs.tslibs.timestamps.Timestamp'>\n"
     ]
    }
   ],
   "source": [
    "dates = ['2021-1-1', '2021-1-2']\n",
    "pd_dates = pd.to_datetime(dates)\n",
    "print(pd_dates)\n",
    "print(type(pd_dates))\n",
    "print(type(pd_dates[0]))"
   ]
  },
  {
   "cell_type": "markdown",
   "id": "5cf4af7b-c7a0-46e7-a379-caed6f69e1c1",
   "metadata": {},
   "source": [
    "> A `DatetimeIndex` is a sequence (list) of  `Timestamp` objects."
   ]
  },
  {
   "cell_type": "code",
   "execution_count": 45,
   "id": "33d8c2c4-5c0b-4ecd-b662-2b23e3b7a0c7",
   "metadata": {},
   "outputs": [
    {
     "data": {
      "text/plain": [
       "DatetimeIndex(['2021-01-01', '2021-02-01', '2021-03-01', '2021-04-01',\n",
       "               '2021-05-01', '2021-07-01', '2021-08-01', '2021-09-01',\n",
       "               '2021-10-01'],\n",
       "              dtype='datetime64[ns]', freq=None)"
      ]
     },
     "execution_count": 45,
     "metadata": {},
     "output_type": "execute_result"
    }
   ],
   "source": [
    "dates = [\n",
    "    '2021-01-01',\n",
    "    '2/1/2021', \n",
    "    '03-01-2021', \n",
    "    'April 1, 2021',\n",
    "    '20210501',\n",
    "    np.datetime64('2021-07-01'), # numpy datetime64\n",
    "    dt.datetime(2021, 8, 1), # python datetime\n",
    "    pd.Timestamp(2021, 9, 1), # pandas Timestamp\n",
    "    pd.to_datetime('20211001')\n",
    "]\n",
    "\n",
    "parsed_dates = pd.to_datetime(\n",
    "    dates,\n",
    "    infer_datetime_format=True,\n",
    "    errors='coerce')\n",
    "\n",
    "parsed_dates"
   ]
  },
  {
   "cell_type": "code",
   "execution_count": 46,
   "id": "82691a6d-1e59-48c1-959a-49779c182a43",
   "metadata": {},
   "outputs": [
    {
     "data": {
      "text/plain": [
       "array([ True,  True,  True,  True,  True,  True,  True,  True,  True])"
      ]
     },
     "execution_count": 46,
     "metadata": {},
     "output_type": "execute_result"
    }
   ],
   "source": [
    "parsed_dates == pd.DatetimeIndex(dates)"
   ]
  },
  {
   "cell_type": "code",
   "execution_count": null,
   "id": "9e82f783-2068-4003-97f0-1ff2d53ac632",
   "metadata": {},
   "outputs": [],
   "source": []
  }
 ],
 "metadata": {
  "kernelspec": {
   "display_name": "Python 3 (ipykernel)",
   "language": "python",
   "name": "python3"
  },
  "language_info": {
   "codemirror_mode": {
    "name": "ipython",
    "version": 3
   },
   "file_extension": ".py",
   "mimetype": "text/x-python",
   "name": "python",
   "nbconvert_exporter": "python",
   "pygments_lexer": "ipython3",
   "version": "3.9.13"
  }
 },
 "nbformat": 4,
 "nbformat_minor": 5
}
