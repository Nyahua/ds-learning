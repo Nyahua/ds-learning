{
 "cells": [
  {
   "cell_type": "code",
   "execution_count": 15,
   "id": "cf56c499-7d56-4390-a9c1-2886a93fd3c8",
   "metadata": {},
   "outputs": [
    {
     "data": {
      "text/plain": [
       "'7'"
      ]
     },
     "execution_count": 15,
     "metadata": {},
     "output_type": "execute_result"
    }
   ],
   "source": [
    "def calculate(id17):\n",
    "    weight = [7, 9, 10, 5, 8, 4, 2, 1, 6, 3, 7, 9, 10, 5, 8, 4, 2]\n",
    "    token = ['1', '0', 'x', '9', '8', '7', '6', '5', '4', '3', '2']\n",
    "    return token[sum([int(i) * w for i, w in zip(id17[:17], weight) ]) % 11]\n",
    "\n",
    "calculate(\"21100219720308111\")"
   ]
  }
 ],
 "metadata": {
  "kernelspec": {
   "display_name": "Python 3 (ipykernel)",
   "language": "python",
   "name": "python3"
  },
  "language_info": {
   "codemirror_mode": {
    "name": "ipython",
    "version": 3
   },
   "file_extension": ".py",
   "mimetype": "text/x-python",
   "name": "python",
   "nbconvert_exporter": "python",
   "pygments_lexer": "ipython3",
   "version": "3.9.13"
  }
 },
 "nbformat": 4,
 "nbformat_minor": 5
}
