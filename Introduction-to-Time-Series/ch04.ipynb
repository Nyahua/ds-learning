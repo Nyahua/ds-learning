{
 "cells": [
  {
   "cell_type": "code",
   "execution_count": 3,
   "id": "998cf48e-7d4a-4a79-bc16-a1aa364d4f88",
   "metadata": {},
   "outputs": [],
   "source": [
    "import pandas as pd\n",
    "\n",
    "FILEFAMALEBIRTH = 'datasets/daily-total-female-births.csv'"
   ]
  },
  {
   "cell_type": "code",
   "execution_count": 12,
   "id": "59baceae-6fa0-408d-af7a-1b0f1850d23c",
   "metadata": {},
   "outputs": [
    {
     "data": {
      "text/plain": [
       "pandas.core.series.Series"
      ]
     },
     "execution_count": 12,
     "metadata": {},
     "output_type": "execute_result"
    }
   ],
   "source": [
    "ts = pd.read_csv(\n",
    "    FILEFAMALEBIRTH, index_col=0,\n",
    "    parse_dates=[0], # try parsing the index\n",
    "    squeeze=True # If the parsed data only contains one column then return a Series\n",
    ")\n",
    "type(ts)"
   ]
  },
  {
   "cell_type": "code",
   "execution_count": 14,
   "id": "efb91107-d5ce-46ca-a3a1-1ac0d102ce90",
   "metadata": {},
   "outputs": [
    {
     "data": {
      "text/plain": [
       "Date\n",
       "1959-01-01    35\n",
       "1959-01-02    32\n",
       "1959-01-03    30\n",
       "1959-01-04    31\n",
       "1959-01-05    44\n",
       "Name: Births, dtype: int64"
      ]
     },
     "execution_count": 14,
     "metadata": {},
     "output_type": "execute_result"
    }
   ],
   "source": [
    "ts.head()"
   ]
  },
  {
   "cell_type": "code",
   "execution_count": 16,
   "id": "366d8644-93cb-4c67-82a5-ba6a4b447f9a",
   "metadata": {},
   "outputs": [
    {
     "data": {
      "text/plain": [
       "365"
      ]
     },
     "execution_count": 16,
     "metadata": {},
     "output_type": "execute_result"
    }
   ],
   "source": [
    "ts.size"
   ]
  },
  {
   "cell_type": "code",
   "execution_count": 17,
   "id": "30c9722e-5e1f-4616-95ed-0464258ec189",
   "metadata": {},
   "outputs": [
    {
     "data": {
      "text/plain": [
       "30"
      ]
     },
     "execution_count": 17,
     "metadata": {},
     "output_type": "execute_result"
    }
   ],
   "source": [
    "ts['1959-05-09']"
   ]
  },
  {
   "cell_type": "code",
   "execution_count": 20,
   "id": "dcc9e391-c68b-4d6a-9a99-f73502bbd42d",
   "metadata": {},
   "outputs": [
    {
     "data": {
      "text/plain": [
       "Date\n",
       "1959-05-01    32\n",
       "1959-05-02    35\n",
       "1959-05-03    38\n",
       "1959-05-04    33\n",
       "1959-05-05    39\n",
       "1959-05-06    47\n",
       "1959-05-07    38\n",
       "1959-05-08    52\n",
       "1959-05-09    30\n",
       "1959-05-10    34\n",
       "1959-05-11    40\n",
       "1959-05-12    35\n",
       "1959-05-13    42\n",
       "1959-05-14    41\n",
       "1959-05-15    42\n",
       "1959-05-16    38\n",
       "1959-05-17    24\n",
       "1959-05-18    34\n",
       "1959-05-19    43\n",
       "1959-05-20    36\n",
       "1959-05-21    55\n",
       "1959-05-22    41\n",
       "1959-05-23    45\n",
       "1959-05-24    41\n",
       "1959-05-25    37\n",
       "1959-05-26    43\n",
       "1959-05-27    39\n",
       "1959-05-28    33\n",
       "1959-05-29    43\n",
       "1959-05-30    40\n",
       "1959-05-31    38\n",
       "Name: Births, dtype: int64"
      ]
     },
     "execution_count": 20,
     "metadata": {},
     "output_type": "execute_result"
    }
   ],
   "source": [
    "ts['1959-5']"
   ]
  },
  {
   "cell_type": "code",
   "execution_count": 21,
   "id": "ef24045c-22b8-43ce-b98a-fbafc0973a34",
   "metadata": {},
   "outputs": [
    {
     "data": {
      "text/plain": [
       "count    365.000000\n",
       "mean      41.980822\n",
       "std        7.348257\n",
       "min       23.000000\n",
       "25%       37.000000\n",
       "50%       42.000000\n",
       "75%       46.000000\n",
       "max       73.000000\n",
       "Name: Births, dtype: float64"
      ]
     },
     "execution_count": 21,
     "metadata": {},
     "output_type": "execute_result"
    }
   ],
   "source": [
    "ts.describe()"
   ]
  },
  {
   "cell_type": "code",
   "execution_count": null,
   "id": "45ec9daa-1d6d-4487-8757-fe44f2e45f2e",
   "metadata": {},
   "outputs": [],
   "source": []
  }
 ],
 "metadata": {
  "kernelspec": {
   "display_name": "Python 3 (ipykernel)",
   "language": "python",
   "name": "python3"
  },
  "language_info": {
   "codemirror_mode": {
    "name": "ipython",
    "version": 3
   },
   "file_extension": ".py",
   "mimetype": "text/x-python",
   "name": "python",
   "nbconvert_exporter": "python",
   "pygments_lexer": "ipython3",
   "version": "3.9.7"
  }
 },
 "nbformat": 4,
 "nbformat_minor": 5
}
