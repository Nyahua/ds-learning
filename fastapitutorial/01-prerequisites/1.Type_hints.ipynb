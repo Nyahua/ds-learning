{
 "cells": [
  {
   "cell_type": "markdown",
   "id": "e92b3517-0d64-4401-86f8-fa3b020eae70",
   "metadata": {},
   "source": [
    "Python is a dynamically typed language"
   ]
  },
  {
   "cell_type": "code",
   "execution_count": 4,
   "id": "457f9f0b-38fc-4da2-ad9c-d53d5945cdbe",
   "metadata": {},
   "outputs": [
    {
     "name": "stdout",
     "output_type": "stream",
     "text": [
      "<class 'int'>\n",
      "<class 'str'>\n"
     ]
    }
   ],
   "source": [
    "count = 5\n",
    "print(type(count))\n",
    "\n",
    "count = '5'\n",
    "print(type(count))"
   ]
  },
  {
   "cell_type": "markdown",
   "id": "6cf9972c-ab80-4a30-8250-d6c48a1e349c",
   "metadata": {},
   "source": [
    "### Why Type Hints?\n",
    "The goal is to increase developer productivity by:\n",
    "- Helping IDEs recognize the types. This in turn leads to better suggestions by IDEs.\n",
    "- If you sprinkle your code with type annotations, mypy and similar static type checker can type check your code and find common bugs 🐛🪲."
   ]
  },
  {
   "cell_type": "code",
   "execution_count": 12,
   "id": "6380c558-2866-4ccb-aa53-ee2bf4efa221",
   "metadata": {},
   "outputs": [
    {
     "name": "stdout",
     "output_type": "stream",
     "text": [
      "Your total bill is USD 70\n",
      "Your total bill is USD 3040\n"
     ]
    }
   ],
   "source": [
    "def total_price(price_1,price_2):\n",
    "    return f\"Your total bill is USD {price_1+price_2}\"\n",
    "        \n",
    "print(total_price(30,40))\n",
    "\n",
    "print(total_price('30','40'))\n",
    "\n"
   ]
  },
  {
   "cell_type": "code",
   "execution_count": 14,
   "id": "aafd7db2-485e-489d-a868-52e9841c0075",
   "metadata": {},
   "outputs": [
    {
     "data": {
      "text/plain": [
       "'Your total bill is USD 3040'"
      ]
     },
     "execution_count": 14,
     "metadata": {},
     "output_type": "execute_result"
    }
   ],
   "source": [
    "def total_price(price_1: int, price_2: int) -> str:\n",
    "    return f\"Your total bill is USD {price_1+price_2}\"\n",
    "\n",
    "price = total_price('30', '40')\n",
    "price"
   ]
  },
  {
   "cell_type": "code",
   "execution_count": null,
   "id": "9e4b6952-cf11-4ed2-93a5-10dc576dd03f",
   "metadata": {},
   "outputs": [],
   "source": []
  }
 ],
 "metadata": {
  "kernelspec": {
   "display_name": "Python 3 (ipykernel)",
   "language": "python",
   "name": "python3"
  },
  "language_info": {
   "codemirror_mode": {
    "name": "ipython",
    "version": 3
   },
   "file_extension": ".py",
   "mimetype": "text/x-python",
   "name": "python",
   "nbconvert_exporter": "python",
   "pygments_lexer": "ipython3",
   "version": "3.9.7"
  }
 },
 "nbformat": 4,
 "nbformat_minor": 5
}
