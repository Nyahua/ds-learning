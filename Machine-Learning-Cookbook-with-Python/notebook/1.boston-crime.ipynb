{
 "cells": [
  {
   "cell_type": "markdown",
   "id": "4c3de6e9-5c51-47d1-8a13-fcb0755cc445",
   "metadata": {},
   "source": [
    "# Boston crime dataset\n",
    "> is a collection of crime incident reports that are provided by the [Boston Police Department (BPD)](https://data.boston.gov/dataset/crime-incident-reports-august-2015-to-date-source-new-system). This dataset documents the initial details surrounding an incident to which BPD officers respond. This is a dataset containing records from the new crime incident report system, which includes a reduced set of fields focused on capturing the type of incident as well as when and where it occurred. Records in the new system begin from June of 2015."
   ]
  },
  {
   "cell_type": "markdown",
   "id": "2003d286-f9ef-47c4-80e9-68324e084898",
   "metadata": {},
   "source": [
    "## O.S.E.M.N. framework\n",
    "All Machine Learning Projects and Data Science Projects have a basic framework named **[O.S.E.M.N](http://www.dataists.com/2010/09/a-taxonomy-of-data-science)**. (**O**btaining, **S**crubbing, **E**xploring, **M**odeling, I**N**terpreting), and we can see with framework Data Fetching, Data Cleaning, and Data Exploring takes up 60% of the pipeline."
   ]
  },
  {
   "cell_type": "code",
   "execution_count": 1,
   "id": "f4602417-9ed0-48d2-aaa6-01e257bc146e",
   "metadata": {},
   "outputs": [],
   "source": [
    "import pandas as pd\n",
    "import numpy as np\n",
    "crime_data = pd.read_csv('data/crime.csv')"
   ]
  },
  {
   "cell_type": "code",
   "execution_count": 2,
   "id": "65b3c7f2-cff0-47a8-9884-c1a5de72cedd",
   "metadata": {},
   "outputs": [
    {
     "data": {
      "text/html": [
       "<div>\n",
       "<style scoped>\n",
       "    .dataframe tbody tr th:only-of-type {\n",
       "        vertical-align: middle;\n",
       "    }\n",
       "\n",
       "    .dataframe tbody tr th {\n",
       "        vertical-align: top;\n",
       "    }\n",
       "\n",
       "    .dataframe thead th {\n",
       "        text-align: right;\n",
       "    }\n",
       "</style>\n",
       "<table border=\"1\" class=\"dataframe\">\n",
       "  <thead>\n",
       "    <tr style=\"text-align: right;\">\n",
       "      <th></th>\n",
       "      <th>INCIDENT_NUMBER</th>\n",
       "      <th>OFFENSE_CODE</th>\n",
       "      <th>OFFENSE_CODE_GROUP</th>\n",
       "      <th>OFFENSE_DESCRIPTION</th>\n",
       "      <th>DISTRICT</th>\n",
       "      <th>REPORTING_AREA</th>\n",
       "      <th>SHOOTING</th>\n",
       "      <th>OCCURRED_ON_DATE</th>\n",
       "      <th>YEAR</th>\n",
       "      <th>MONTH</th>\n",
       "      <th>DAY_OF_WEEK</th>\n",
       "      <th>HOUR</th>\n",
       "      <th>UCR_PART</th>\n",
       "      <th>STREET</th>\n",
       "      <th>Lat</th>\n",
       "      <th>Long</th>\n",
       "      <th>Location</th>\n",
       "    </tr>\n",
       "  </thead>\n",
       "  <tbody>\n",
       "    <tr>\n",
       "      <th>0</th>\n",
       "      <td>I182070945</td>\n",
       "      <td>619</td>\n",
       "      <td>Larceny</td>\n",
       "      <td>LARCENY ALL OTHERS</td>\n",
       "      <td>D14</td>\n",
       "      <td>808</td>\n",
       "      <td>NaN</td>\n",
       "      <td>2018-09-02 13:00:00</td>\n",
       "      <td>2018</td>\n",
       "      <td>9</td>\n",
       "      <td>Sunday</td>\n",
       "      <td>13</td>\n",
       "      <td>Part One</td>\n",
       "      <td>LINCOLN ST</td>\n",
       "      <td>42.357791</td>\n",
       "      <td>-71.139371</td>\n",
       "      <td>(42.35779134, -71.13937053)</td>\n",
       "    </tr>\n",
       "    <tr>\n",
       "      <th>1</th>\n",
       "      <td>I182070943</td>\n",
       "      <td>1402</td>\n",
       "      <td>Vandalism</td>\n",
       "      <td>VANDALISM</td>\n",
       "      <td>C11</td>\n",
       "      <td>347</td>\n",
       "      <td>NaN</td>\n",
       "      <td>2018-08-21 00:00:00</td>\n",
       "      <td>2018</td>\n",
       "      <td>8</td>\n",
       "      <td>Tuesday</td>\n",
       "      <td>0</td>\n",
       "      <td>Part Two</td>\n",
       "      <td>HECLA ST</td>\n",
       "      <td>42.306821</td>\n",
       "      <td>-71.060300</td>\n",
       "      <td>(42.30682138, -71.06030035)</td>\n",
       "    </tr>\n",
       "    <tr>\n",
       "      <th>2</th>\n",
       "      <td>I182070941</td>\n",
       "      <td>3410</td>\n",
       "      <td>Towed</td>\n",
       "      <td>TOWED MOTOR VEHICLE</td>\n",
       "      <td>D4</td>\n",
       "      <td>151</td>\n",
       "      <td>NaN</td>\n",
       "      <td>2018-09-03 19:27:00</td>\n",
       "      <td>2018</td>\n",
       "      <td>9</td>\n",
       "      <td>Monday</td>\n",
       "      <td>19</td>\n",
       "      <td>Part Three</td>\n",
       "      <td>CAZENOVE ST</td>\n",
       "      <td>42.346589</td>\n",
       "      <td>-71.072429</td>\n",
       "      <td>(42.34658879, -71.07242943)</td>\n",
       "    </tr>\n",
       "    <tr>\n",
       "      <th>3</th>\n",
       "      <td>I182070940</td>\n",
       "      <td>3114</td>\n",
       "      <td>Investigate Property</td>\n",
       "      <td>INVESTIGATE PROPERTY</td>\n",
       "      <td>D4</td>\n",
       "      <td>272</td>\n",
       "      <td>NaN</td>\n",
       "      <td>2018-09-03 21:16:00</td>\n",
       "      <td>2018</td>\n",
       "      <td>9</td>\n",
       "      <td>Monday</td>\n",
       "      <td>21</td>\n",
       "      <td>Part Three</td>\n",
       "      <td>NEWCOMB ST</td>\n",
       "      <td>42.334182</td>\n",
       "      <td>-71.078664</td>\n",
       "      <td>(42.33418175, -71.07866441)</td>\n",
       "    </tr>\n",
       "    <tr>\n",
       "      <th>4</th>\n",
       "      <td>I182070938</td>\n",
       "      <td>3114</td>\n",
       "      <td>Investigate Property</td>\n",
       "      <td>INVESTIGATE PROPERTY</td>\n",
       "      <td>B3</td>\n",
       "      <td>421</td>\n",
       "      <td>NaN</td>\n",
       "      <td>2018-09-03 21:05:00</td>\n",
       "      <td>2018</td>\n",
       "      <td>9</td>\n",
       "      <td>Monday</td>\n",
       "      <td>21</td>\n",
       "      <td>Part Three</td>\n",
       "      <td>DELHI ST</td>\n",
       "      <td>42.275365</td>\n",
       "      <td>-71.090361</td>\n",
       "      <td>(42.27536542, -71.09036101)</td>\n",
       "    </tr>\n",
       "  </tbody>\n",
       "</table>\n",
       "</div>"
      ],
      "text/plain": [
       "  INCIDENT_NUMBER  OFFENSE_CODE    OFFENSE_CODE_GROUP   OFFENSE_DESCRIPTION  \\\n",
       "0      I182070945           619               Larceny    LARCENY ALL OTHERS   \n",
       "1      I182070943          1402             Vandalism             VANDALISM   \n",
       "2      I182070941          3410                 Towed   TOWED MOTOR VEHICLE   \n",
       "3      I182070940          3114  Investigate Property  INVESTIGATE PROPERTY   \n",
       "4      I182070938          3114  Investigate Property  INVESTIGATE PROPERTY   \n",
       "\n",
       "  DISTRICT REPORTING_AREA SHOOTING     OCCURRED_ON_DATE  YEAR  MONTH  \\\n",
       "0      D14            808      NaN  2018-09-02 13:00:00  2018      9   \n",
       "1      C11            347      NaN  2018-08-21 00:00:00  2018      8   \n",
       "2       D4            151      NaN  2018-09-03 19:27:00  2018      9   \n",
       "3       D4            272      NaN  2018-09-03 21:16:00  2018      9   \n",
       "4       B3            421      NaN  2018-09-03 21:05:00  2018      9   \n",
       "\n",
       "  DAY_OF_WEEK  HOUR    UCR_PART       STREET        Lat       Long  \\\n",
       "0      Sunday    13    Part One   LINCOLN ST  42.357791 -71.139371   \n",
       "1     Tuesday     0    Part Two     HECLA ST  42.306821 -71.060300   \n",
       "2      Monday    19  Part Three  CAZENOVE ST  42.346589 -71.072429   \n",
       "3      Monday    21  Part Three   NEWCOMB ST  42.334182 -71.078664   \n",
       "4      Monday    21  Part Three     DELHI ST  42.275365 -71.090361   \n",
       "\n",
       "                      Location  \n",
       "0  (42.35779134, -71.13937053)  \n",
       "1  (42.30682138, -71.06030035)  \n",
       "2  (42.34658879, -71.07242943)  \n",
       "3  (42.33418175, -71.07866441)  \n",
       "4  (42.27536542, -71.09036101)  "
      ]
     },
     "execution_count": 2,
     "metadata": {},
     "output_type": "execute_result"
    }
   ],
   "source": [
    "crime_data.head()"
   ]
  },
  {
   "cell_type": "code",
   "execution_count": 3,
   "id": "5f0b627b-9c76-4e3a-a3b7-64d20192b244",
   "metadata": {},
   "outputs": [
    {
     "data": {
      "text/plain": [
       "(319073, 17)"
      ]
     },
     "execution_count": 3,
     "metadata": {},
     "output_type": "execute_result"
    }
   ],
   "source": [
    "crime_data.shape"
   ]
  },
  {
   "cell_type": "code",
   "execution_count": 4,
   "id": "da7a0f32-c668-42f2-abd2-643b855a9f2e",
   "metadata": {},
   "outputs": [
    {
     "name": "stdout",
     "output_type": "stream",
     "text": [
      "<class 'pandas.core.frame.DataFrame'>\n",
      "RangeIndex: 319073 entries, 0 to 319072\n",
      "Data columns (total 17 columns):\n",
      " #   Column               Non-Null Count   Dtype  \n",
      "---  ------               --------------   -----  \n",
      " 0   INCIDENT_NUMBER      319073 non-null  object \n",
      " 1   OFFENSE_CODE         319073 non-null  int64  \n",
      " 2   OFFENSE_CODE_GROUP   319073 non-null  object \n",
      " 3   OFFENSE_DESCRIPTION  319073 non-null  object \n",
      " 4   DISTRICT             317308 non-null  object \n",
      " 5   REPORTING_AREA       319073 non-null  object \n",
      " 6   SHOOTING             1019 non-null    object \n",
      " 7   OCCURRED_ON_DATE     319073 non-null  object \n",
      " 8   YEAR                 319073 non-null  int64  \n",
      " 9   MONTH                319073 non-null  int64  \n",
      " 10  DAY_OF_WEEK          319073 non-null  object \n",
      " 11  HOUR                 319073 non-null  int64  \n",
      " 12  UCR_PART             318983 non-null  object \n",
      " 13  STREET               308202 non-null  object \n",
      " 14  Lat                  299074 non-null  float64\n",
      " 15  Long                 299074 non-null  float64\n",
      " 16  Location             319073 non-null  object \n",
      "dtypes: float64(2), int64(4), object(11)\n",
      "memory usage: 41.4+ MB\n"
     ]
    }
   ],
   "source": [
    "crime_data.info()"
   ]
  },
  {
   "cell_type": "code",
   "execution_count": 5,
   "id": "60f9178e-37bc-473c-a34f-d2783467d790",
   "metadata": {},
   "outputs": [
    {
     "data": {
      "text/plain": [
       "INCIDENT_NUMBER                         I182070945\n",
       "OFFENSE_CODE                                   619\n",
       "OFFENSE_CODE_GROUP                         Larceny\n",
       "OFFENSE_DESCRIPTION             LARCENY ALL OTHERS\n",
       "DISTRICT                                       D14\n",
       "REPORTING_AREA                                 808\n",
       "SHOOTING                                       NaN\n",
       "OCCURRED_ON_DATE               2018-09-02 13:00:00\n",
       "YEAR                                          2018\n",
       "MONTH                                            9\n",
       "DAY_OF_WEEK                                 Sunday\n",
       "HOUR                                            13\n",
       "UCR_PART                                  Part One\n",
       "STREET                                  LINCOLN ST\n",
       "Lat                                      42.357791\n",
       "Long                                    -71.139371\n",
       "Location               (42.35779134, -71.13937053)\n",
       "Name: 0, dtype: object"
      ]
     },
     "execution_count": 5,
     "metadata": {},
     "output_type": "execute_result"
    }
   ],
   "source": [
    "crime_data.loc[0]"
   ]
  },
  {
   "cell_type": "markdown",
   "id": "6aceef91-061e-4992-bb2f-235545c776bf",
   "metadata": {},
   "source": [
    "### Handle Missing Data"
   ]
  },
  {
   "cell_type": "code",
   "execution_count": 6,
   "id": "15e5a283-559f-480d-a402-d46d57aaa178",
   "metadata": {},
   "outputs": [
    {
     "data": {
      "text/plain": [
       "INCIDENT_NUMBER             0\n",
       "OFFENSE_CODE                0\n",
       "OFFENSE_CODE_GROUP          0\n",
       "OFFENSE_DESCRIPTION         0\n",
       "DISTRICT                 1765\n",
       "REPORTING_AREA              0\n",
       "SHOOTING               318054\n",
       "OCCURRED_ON_DATE            0\n",
       "YEAR                        0\n",
       "MONTH                       0\n",
       "DAY_OF_WEEK                 0\n",
       "HOUR                        0\n",
       "UCR_PART                   90\n",
       "STREET                  10871\n",
       "Lat                     19999\n",
       "Long                    19999\n",
       "Location                    0\n",
       "dtype: int64"
      ]
     },
     "execution_count": 6,
     "metadata": {},
     "output_type": "execute_result"
    }
   ],
   "source": [
    "crime_data.isnull().sum()"
   ]
  },
  {
   "cell_type": "code",
   "execution_count": 7,
   "id": "058ac23b-a46f-4c11-ade4-6ba38b088989",
   "metadata": {},
   "outputs": [
    {
     "data": {
      "text/plain": [
       "NaN    318054\n",
       "Y        1019\n",
       "Name: SHOOTING, dtype: int64"
      ]
     },
     "execution_count": 7,
     "metadata": {},
     "output_type": "execute_result"
    }
   ],
   "source": [
    "crime_data.SHOOTING.value_counts(dropna=False)"
   ]
  },
  {
   "cell_type": "code",
   "execution_count": 8,
   "id": "ed56440d-ea2d-4d45-a5bf-650a278a12f3",
   "metadata": {},
   "outputs": [
    {
     "data": {
      "text/plain": [
       "False    318054\n",
       "True       1019\n",
       "Name: SHOOTING, dtype: int64"
      ]
     },
     "execution_count": 8,
     "metadata": {},
     "output_type": "execute_result"
    }
   ],
   "source": [
    "crime_data[\"SHOOTING\"] = np.where(crime_data.SHOOTING==\"Y\", True, False)\n",
    "crime_data.SHOOTING.value_counts(dropna=False)"
   ]
  },
  {
   "cell_type": "code",
   "execution_count": 9,
   "id": "25e31e74-70ec-4b98-a2ff-0c71fa8a6179",
   "metadata": {},
   "outputs": [
    {
     "data": {
      "text/plain": [
       "WASHINGTON ST        14194\n",
       "NaN                  10871\n",
       "BLUE HILL AVE         7794\n",
       "BOYLSTON ST           7221\n",
       "DORCHESTER AVE        5149\n",
       "                     ...  \n",
       "MYLES STANDISH RD        1\n",
       "ROLLINS PL               1\n",
       "MCLELLAN                 1\n",
       "EWER ST                  1\n",
       "ELMHILL                  1\n",
       "Name: STREET, Length: 4658, dtype: int64"
      ]
     },
     "execution_count": 9,
     "metadata": {},
     "output_type": "execute_result"
    }
   ],
   "source": [
    "crime_data.STREET.value_counts(dropna=False)"
   ]
  },
  {
   "cell_type": "code",
   "execution_count": 10,
   "id": "30dc7290-0437-4256-bb99-c91ff2620461",
   "metadata": {},
   "outputs": [
    {
     "data": {
      "text/plain": [
       "(282517, 17)"
      ]
     },
     "execution_count": 10,
     "metadata": {},
     "output_type": "execute_result"
    }
   ],
   "source": [
    "crime_data.drop_duplicates(subset='INCIDENT_NUMBER', inplace=True, keep='first')\n",
    "crime_data.shape"
   ]
  },
  {
   "cell_type": "markdown",
   "id": "8740b0d3-0b94-4139-993e-41a6d7558e76",
   "metadata": {},
   "source": [
    "## Data Exploring\n",
    "**[Exploratory Data Analysis (EDA)](https://www.itl.nist.gov/div898/handbook/eda/eda.htm.)** is an approach/philosophy to analyze a given data and derive information about the characteristics of the data using Graphical Visualizations like Box Plots, Scatter Plots, Histograms, etc. EDA is different from Initial Data Analysis (IDA). IDA primarily focused on Data Quality and Data Cleaning.\n",
    "\n",
    "EDA can we further divided into the following categories:\n",
    "- Univariate Feature Analysis\n",
    "    -Distribution\n",
    "    - Anomaly or Outlier Detection\n",
    "- Multivariate Feature Analysis\n",
    "    - Correlation\n",
    "    - Dependence"
   ]
  },
  {
   "cell_type": "markdown",
   "id": "cf1c36d6-93b0-4491-b72b-6e0ab14d9e56",
   "metadata": {},
   "source": [
    "### Univariate Feature Analysis\n",
    "After cleaning the data, we need to visualize how the data looks and is distributed among the dataset. As the name suggests, “univariate” implies that we will be dealing with only one feature from the dataset.\n",
    "\n",
    "- What is [Statistical Distribution](http://mathworld.wolfram.com/StatisticalDistribution.html)?\n",
    "> Distribution in the most general and simple terms is, how the frequency of every unique observation looks over the sample space. We can have either a discrete distribution or a continuous distribution. Generally, we use a bar chart that is generated from a frequency table. A **discrete distribution** means that the observation has a countable (usually finite) number of values. In contrast, a **continuous distribution** means that the observation has an infinite (uncountable) number of different values. "
   ]
  },
  {
   "cell_type": "code",
   "execution_count": 11,
   "id": "b6ce493e-7d8c-4ada-8380-628d1c60db41",
   "metadata": {},
   "outputs": [
    {
     "data": {
      "text/plain": [
       "B2     43403\n",
       "C11    37298\n",
       "D4     36755\n",
       "B3     31131\n",
       "A1     31020\n",
       "C6     21196\n",
       "D14    18573\n",
       "E18    15746\n",
       "E13    15652\n",
       "A7     12306\n",
       "E5     11876\n",
       "A15     5978\n",
       "Name: DISTRICT, dtype: int64"
      ]
     },
     "execution_count": 11,
     "metadata": {},
     "output_type": "execute_result"
    },
    {
     "data": {
      "image/png": "[encoded data removed]",
      "text/plain": [
       "<Figure size 648x432 with 1 Axes>"
      ]
     },
     "metadata": {},
     "output_type": "display_data"
    }
   ],
   "source": [
    "import seaborn as sns\n",
    "sns.set_style(\"darkgrid\")\n",
    "\n",
    "import matplotlib.pyplot as plt\n",
    "fig, ax = plt.subplots(figsize=(9, 6))\n",
    "\n",
    "sns.countplot(data=crime_data, x='DISTRICT', ax=ax)\n",
    "crime_data.DISTRICT.value_counts()"
   ]
  },
  {
   "cell_type": "code",
   "execution_count": 22,
   "id": "e07fdc8a-b032-473a-b459-a55f10874044",
   "metadata": {},
   "outputs": [
    {
     "data": {
      "image/png": "[encoded data removed]",
      "text/plain": [
       "<Figure size 648x432 with 1 Axes>"
      ]
     },
     "metadata": {},
     "output_type": "display_data"
    }
   ],
   "source": [
    "fig, ax = plt.subplots(figsize=(9, 6))\n",
    "ax.hist(crime_data.HOUR, bins=23)\n",
    "plt.show()"
   ]
  },
  {
   "cell_type": "code",
   "execution_count": 29,
   "id": "106da25d-8bc7-4125-8684-bff29e8e7250",
   "metadata": {},
   "outputs": [
    {
     "data": {
      "text/plain": [
       "<seaborn.axisgrid.FacetGrid at 0x1f88d9fc4f0>"
      ]
     },
     "execution_count": 29,
     "metadata": {},
     "output_type": "execute_result"
    },
    {
     "data": {
      "image/png": "[encoded data removed]",
      "text/plain": [
       "<Figure size 1008x504 with 1 Axes>"
      ]
     },
     "metadata": {},
     "output_type": "display_data"
    }
   ],
   "source": [
    "sns.displot(crime_data.HOUR, height=7, aspect=2, rug=True)"
   ]
  },
  {
   "cell_type": "code",
   "execution_count": null,
   "id": "027e63a8-5008-4be6-b426-d43f55ce03d2",
   "metadata": {},
   "outputs": [],
   "source": []
  }
 ],
 "metadata": {
  "kernelspec": {
   "display_name": "Python 3 (ipykernel)",
   "language": "python",
   "name": "python3"
  },
  "language_info": {
   "codemirror_mode": {
    "name": "ipython",
    "version": 3
   },
   "file_extension": ".py",
   "mimetype": "text/x-python",
   "name": "python",
   "nbconvert_exporter": "python",
   "pygments_lexer": "ipython3",
   "version": "3.9.7"
  }
 },
 "nbformat": 4,
 "nbformat_minor": 5
}
